{
 "cells": [
  {
   "cell_type": "markdown",
   "metadata": {},
   "source": [
    "# Part A:\n",
    "Making Equations"
   ]
  },
  {
   "cell_type": "markdown",
   "metadata": {},
   "source": [
    "I0 - I2 - I7 = 0\n",
    "\n",
    "I2 - I3 - I4 = 0\n",
    "\n",
    "I7 - I5 - I1 = 0\n",
    "\n",
    "I3 - I5 - I6 = 0\n",
    "\n",
    "2I1 - 2I3 - 2I5 - I2 = 0\n",
    "\n",
    "I4 - 2I3 - 2I6 = 0\n",
    "\n",
    "2I0 + I2 + I4 = 20\n",
    "\n",
    "2I5 + I7 - 2I6 = 0 \n"
   ]
  },
  {
   "cell_type": "code",
   "execution_count": 94,
   "metadata": {},
   "outputs": [],
   "source": [
    "# Imports\n",
    "\n",
    "import numpy as np\n",
    "import time\n",
    "from scipy.sparse import csr_matrix\n",
    "from scipy.sparse.linalg import spsolve"
   ]
  },
  {
   "cell_type": "markdown",
   "metadata": {},
   "source": [
    "# Part B \n",
    "Dense Matrix Techniques"
   ]
  },
  {
   "cell_type": "code",
   "execution_count": 95,
   "metadata": {},
   "outputs": [
    {
     "name": "stdout",
     "output_type": "stream",
     "text": [
      "Dense Matrix: [ 6.33093525  2.51798561  4.02877698  0.71942446  3.30935252 -0.21582734\n",
      "  0.9352518   2.30215827]\n"
     ]
    }
   ],
   "source": [
    "A = np.array([\n",
    "    [1, 0, -1, 0, 0, 0, 0, -1], \n",
    "    [0, 0, 1, -1, -1, 0, 0, 0],\n",
    "    [0, -1, 0, 0, 0, -1, 0, 1],\n",
    "    [0, 0, 0, 1, 0, -1, -1, 0],\n",
    "    [0, 2, -1, -2, 0, -2, 0, 0],\n",
    "    [0, 0, 0, -2, 1, 0, -2, 0],\n",
    "    [2, 0, 1, 0, 1, 0, 0, 0],  \n",
    "    [0, 0, 0, 0, 0, 2, -2, 1], \n",
    "])\n",
    "\n",
    "b = np.array([0, 0, 0, 0, 0, 0, 20, 0])\n",
    "\n",
    "dense_ans = np.linalg.solve(A, b)\n",
    "print(\"Dense Matrix:\", dense_ans)\n"
   ]
  },
  {
   "cell_type": "markdown",
   "metadata": {},
   "source": [
    "# Part C\n",
    "Sparse Matrix Techniques"
   ]
  },
  {
   "cell_type": "code",
   "execution_count": 96,
   "metadata": {},
   "outputs": [
    {
     "name": "stdout",
     "output_type": "stream",
     "text": [
      "Sparse Matrix: [ 6.33093525  2.51798561  4.02877698  0.71942446  3.30935252 -0.21582734\n",
      "  0.9352518   2.30215827]\n",
      "Absolute error:  2.3707876222259364e-15\n"
     ]
    }
   ],
   "source": [
    "sparse_matrix = csr_matrix(A)\n",
    "sparse_ans = spsolve(sparse_matrix, b)\n",
    "err = np.linalg.norm(A @ sparse_ans - b)\n",
    "\n",
    "print(\"Sparse Matrix:\", sparse_ans)\n",
    "print(\"Absolute error: \", err)\n"
   ]
  },
  {
   "cell_type": "markdown",
   "metadata": {},
   "source": [
    "# Part D\n",
    "Compare Speed"
   ]
  },
  {
   "cell_type": "code",
   "execution_count": 97,
   "metadata": {},
   "outputs": [
    {
     "name": "stdout",
     "output_type": "stream",
     "text": [
      "Dense Technique Time: 0.00029550003819167614 seconds\n",
      "Sparse Technique Time: 0.0018006000900641084 seconds\n",
      "Dense Technique is faster\n"
     ]
    }
   ],
   "source": [
    "start_d = time.perf_counter()\n",
    "dense_ans = np.linalg.solve(A, b)\n",
    "end_d = time.perf_counter()\n",
    "time_d = end_d - start_d\n",
    "\n",
    "start_s = time.perf_counter()\n",
    "sparse_ans = spsolve(sparse_matrix, b)\n",
    "end_s = time.perf_counter()\n",
    "time_s = end_s - start_s\n",
    "\n",
    "print(f\"Dense Technique Time: {time_d} seconds\")\n",
    "print(f\"Sparse Technique Time: {time_s} seconds\")\n",
    "\n",
    "if time_s < time_d:\n",
    "    print(\"Sparse Technique is faster\")\n",
    "else:\n",
    "    print(\"Dense Technique is faster\")\n",
    "\n",
    "\n"
   ]
  },
  {
   "cell_type": "markdown",
   "metadata": {},
   "source": [
    "# Part E\n",
    "Difference"
   ]
  },
  {
   "cell_type": "code",
   "execution_count": 98,
   "metadata": {},
   "outputs": [
    {
     "name": "stdout",
     "output_type": "stream",
     "text": [
      "Difference: 4.1540741810552243e-16\n"
     ]
    }
   ],
   "source": [
    "difference = np.linalg.norm(dense_ans - sparse_ans)\n",
    "print(\"Difference:\", difference)\n"
   ]
  }
 ],
 "metadata": {
  "kernelspec": {
   "display_name": "base",
   "language": "python",
   "name": "python3"
  },
  "language_info": {
   "codemirror_mode": {
    "name": "ipython",
    "version": 3
   },
   "file_extension": ".py",
   "mimetype": "text/x-python",
   "name": "python",
   "nbconvert_exporter": "python",
   "pygments_lexer": "ipython3",
   "version": "3.11.7"
  }
 },
 "nbformat": 4,
 "nbformat_minor": 2
}
